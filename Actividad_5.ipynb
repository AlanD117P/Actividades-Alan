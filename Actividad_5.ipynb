{
  "nbformat": 4,
  "nbformat_minor": 0,
  "metadata": {
    "colab": {
      "provenance": [],
      "authorship_tag": "ABX9TyOi+IVbl7O+xIAP8psapos7",
      "include_colab_link": true
    },
    "kernelspec": {
      "name": "python3",
      "display_name": "Python 3"
    },
    "language_info": {
      "name": "python"
    }
  },
  "cells": [
    {
      "cell_type": "markdown",
      "metadata": {
        "id": "view-in-github",
        "colab_type": "text"
      },
      "source": [
        "<a href=\"https://colab.research.google.com/github/AlanD117P/Actividades-Alan/blob/main/Actividad_5.ipynb\" target=\"_parent\"><img src=\"https://colab.research.google.com/assets/colab-badge.svg\" alt=\"Open In Colab\"/></a>"
      ]
    },
    {
      "cell_type": "markdown",
      "source": [
        "Actividad 5: Uso de software para búsqueda, Alan David Perez Perez Matricula: 1956828 carrera:IMTC"
      ],
      "metadata": {
        "id": "Rn19yKWGsLAU"
      }
    },
    {
      "cell_type": "code",
      "execution_count": null,
      "metadata": {
        "id": "xnLywlwer9qR"
      },
      "outputs": [],
      "source": [
        "#librerias\n",
        "import tensorflow as tf\n",
        "from tensorflow.keras.datasets import mnist\n",
        "import matplotlib.pyplot as plt"
      ]
    },
    {
      "cell_type": "code",
      "source": [
        "# Cargar el conjunto de datos MNIST\n",
        "(train_data, train_labels), (test_data, test_labels) = mnist.load_data()"
      ],
      "metadata": {
        "colab": {
          "base_uri": "https://localhost:8080/"
        },
        "id": "b-X4ruThsrIe",
        "outputId": "eb6136a5-7bcf-4220-e9e9-c7d6d1d74d56"
      },
      "execution_count": null,
      "outputs": [
        {
          "output_type": "stream",
          "name": "stdout",
          "text": [
            "Downloading data from https://storage.googleapis.com/tensorflow/tf-keras-datasets/mnist.npz\n",
            "11490434/11490434 [==============================] - 0s 0us/step\n"
          ]
        }
      ]
    },
    {
      "cell_type": "code",
      "source": [
        "# Normalizar los datos\n",
        "train_data = train_data / 255.0\n",
        "test_data = test_data / 255.0"
      ],
      "metadata": {
        "id": "t0cM_Kv6s3k6"
      },
      "execution_count": null,
      "outputs": []
    },
    {
      "cell_type": "code",
      "source": [
        "# Definir la arquitectura de la red neuronal\n",
        "model = tf.keras.models.Sequential([\n",
        "    tf.keras.layers.Flatten(input_shape=(28, 28)),  # Capa de entrada: aplanar la imagen\n",
        "    tf.keras.layers.Dense(128, activation='relu'),  # Capa oculta con 128 neuronas y activación ReLU\n",
        "    tf.keras.layers.Dense(10, activation='softmax')  # Capa de salida con 10 neuronas para las 10 clases y activación softmax\n",
        "    ])"
      ],
      "metadata": {
        "id": "NAduUq1ltKUr"
      },
      "execution_count": null,
      "outputs": []
    },
    {
      "cell_type": "code",
      "source": [
        "# Compilar el modelo\n",
        "model.compile(optimizer='adam',  # Optimizador Adam\n",
        "              loss='sparse_categorical_crossentropy',  # Función de pérdida\n",
        "              metrics=['accuracy'])  # Métrica de evaluación"
      ],
      "metadata": {
        "id": "nIpzskv7tZVp"
      },
      "execution_count": null,
      "outputs": []
    },
    {
      "cell_type": "code",
      "source": [
        "# Entrenar el modelo\n",
        "model.fit(train_data, train_labels, epochs=5, batch_size=32)"
      ],
      "metadata": {
        "colab": {
          "base_uri": "https://localhost:8080/"
        },
        "id": "bj03Bh5YtkEV",
        "outputId": "659827db-47f2-4b8d-cba0-0b2726ac735f"
      },
      "execution_count": null,
      "outputs": [
        {
          "output_type": "stream",
          "name": "stdout",
          "text": [
            "Epoch 1/5\n",
            "1875/1875 [==============================] - 9s 4ms/step - loss: 0.2555 - accuracy: 0.9274\n",
            "Epoch 2/5\n",
            "1875/1875 [==============================] - 6s 3ms/step - loss: 0.1130 - accuracy: 0.9656\n",
            "Epoch 3/5\n",
            "1875/1875 [==============================] - 7s 4ms/step - loss: 0.0788 - accuracy: 0.9764\n",
            "Epoch 4/5\n",
            "1875/1875 [==============================] - 6s 3ms/step - loss: 0.0580 - accuracy: 0.9823\n",
            "Epoch 5/5\n",
            "1875/1875 [==============================] - 8s 4ms/step - loss: 0.0449 - accuracy: 0.9855\n"
          ]
        },
        {
          "output_type": "execute_result",
          "data": {
            "text/plain": [
              "<keras.src.callbacks.History at 0x7b16b9395c30>"
            ]
          },
          "metadata": {},
          "execution_count": 7
        }
      ]
    },
    {
      "cell_type": "code",
      "source": [
        "# Evaluar el modelo con los datos de prueba\n",
        "test_loss, test_accuracy = model.evaluate(test_data, test_labels)\n",
        "print(\"Exactitud del modelo en datos de prueba:\", test_accuracy)"
      ],
      "metadata": {
        "colab": {
          "base_uri": "https://localhost:8080/"
        },
        "id": "7oe_2ZwqtnfJ",
        "outputId": "e0c5371e-587b-40f6-ec1a-c224a487aabf"
      },
      "execution_count": null,
      "outputs": [
        {
          "output_type": "stream",
          "name": "stdout",
          "text": [
            "313/313 [==============================] - 1s 4ms/step - loss: 0.0736 - accuracy: 0.9770\n",
            "Exactitud del modelo en datos de prueba: 0.9769999980926514\n"
          ]
        }
      ]
    },
    {
      "cell_type": "code",
      "source": [
        "# Función para visualizar imágenes con predicciones y valores reales\n",
        "def visualize_images(images, true_labels, predicted_labels):\n",
        "    plt.figure(figsize=(10, 5))\n",
        "    for i in range(len(images)):\n",
        "        plt.subplot(1, len(images), i + 1)\n",
        "        plt.imshow(images[i], cmap='gray')\n",
        "        plt.title(f\"Predicted: {predicted_labels[i]}, Actual: {true_labels[i]}\")\n",
        "        plt.axis('off')\n",
        "    plt.show()"
      ],
      "metadata": {
        "id": "38yrD-0vuyra"
      },
      "execution_count": null,
      "outputs": []
    },
    {
      "cell_type": "code",
      "source": [
        "# Realizar 5 predicciones con el conjunto de datos de prueba\n",
        "predicted_labels = []\n",
        "for i in range(5):\n",
        "    prediction = model.predict(test_data[i:i+1])\n",
        "    predicted_label = tf.argmax(prediction, axis=1).numpy()[0]\n",
        "    true_label = test_labels[i]\n",
        "    predicted_labels.append(predicted_label)\n",
        "    print(\"Predicción:\", predicted_label, \"| Valor real:\", true_label)"
      ],
      "metadata": {
        "colab": {
          "base_uri": "https://localhost:8080/"
        },
        "id": "ByNcKUvvvIyo",
        "outputId": "0b5a474c-3778-4e17-e061-061bc356b582"
      },
      "execution_count": null,
      "outputs": [
        {
          "output_type": "stream",
          "name": "stdout",
          "text": [
            "1/1 [==============================] - 0s 28ms/step\n",
            "Predicción: 7 | Valor real: 7\n",
            "1/1 [==============================] - 0s 20ms/step\n",
            "Predicción: 2 | Valor real: 2\n",
            "1/1 [==============================] - 0s 22ms/step\n",
            "Predicción: 1 | Valor real: 1\n",
            "1/1 [==============================] - 0s 24ms/step\n",
            "Predicción: 0 | Valor real: 0\n",
            "1/1 [==============================] - 0s 23ms/step\n",
            "Predicción: 4 | Valor real: 4\n"
          ]
        }
      ]
    },
    {
      "cell_type": "code",
      "source": [
        "# Visualizar las imágenes junto con las predicciones y los valores reales\n",
        "visualize_images(test_data[:5], test_labels[:5], predicted_labels)"
      ],
      "metadata": {
        "colab": {
          "base_uri": "https://localhost:8080/",
          "height": 192
        },
        "id": "aDAtFuQxvXgZ",
        "outputId": "07cde35e-e5f1-4886-c1d1-caa32289cd2a"
      },
      "execution_count": null,
      "outputs": [
        {
          "output_type": "display_data",
          "data": {
            "text/plain": [
              "<Figure size 1000x500 with 5 Axes>"
            ],
            "image/png": "[encoded data removed]"
          },
          "metadata": {}
        }
      ]
    }
  ]
}