{
  "nbformat": 4,
  "nbformat_minor": 0,
  "metadata": {
    "colab": {
      "provenance": [],
      "authorship_tag": "ABX9TyP4t/59oio5eMxJKMwozi0F",
      "include_colab_link": true
    },
    "kernelspec": {
      "name": "python3",
      "display_name": "Python 3"
    },
    "language_info": {
      "name": "python"
    }
  },
  "cells": [
    {
      "cell_type": "markdown",
      "metadata": {
        "id": "view-in-github",
        "colab_type": "text"
      },
      "source": [
        "<a href=\"https://colab.research.google.com/github/AlanD117P/Actividades-Alan/blob/main/Regresionlineal.ipynb\" target=\"_parent\"><img src=\"https://colab.research.google.com/assets/colab-badge.svg\" alt=\"Open In Colab\"/></a>"
      ]
    },
    {
      "cell_type": "code",
      "execution_count": 1,
      "metadata": {
        "id": "2oY1PivRYqMK"
      },
      "outputs": [],
      "source": [
        "#librerias a utilizar\n",
        "import numpy as np\n",
        "import matplotlib.pyplot as plt\n",
        "from sklearn.model_selection import train_test_split\n",
        "from sklearn.linear_model import LinearRegression\n",
        "from sklearn.metrics import mean_squared_error"
      ]
    },
    {
      "cell_type": "code",
      "source": [
        "#Generar datos de ejemplo\n",
        "np.random.seed(0)\n",
        "horas_estudio = np.random.rand(100,1) * 10\n",
        "calificaciones = 2 * horas_estudio + np.random.randn(100,1) * 2"
      ],
      "metadata": {
        "id": "YwwMpRZPeC7Q"
      },
      "execution_count": 12,
      "outputs": []
    },
    {
      "cell_type": "code",
      "source": [
        "# Imprimir las calificaciones de todos los estudiantes\n",
        "print(\"Calificaciones de todos los estudiantes:\")\n",
        "print(calificaciones)"
      ],
      "metadata": {
        "colab": {
          "base_uri": "https://localhost:8080/"
        },
        "id": "OiIW0eUjNMOL",
        "outputId": "ec6db58f-3721-4f6d-8343-9033200cb0cb"
      },
      "execution_count": 19,
      "outputs": [
        {
          "output_type": "stream",
          "name": "stdout",
          "text": [
            "Calificaciones de todos los estudiantes:\n",
            "[[ 8.64597040e+00]\n",
            " [ 1.61054403e+01]\n",
            " [ 1.29865924e+01]\n",
            " [ 7.82517629e+00]\n",
            " [ 1.14496004e+01]\n",
            " [ 1.67096606e+01]\n",
            " [ 1.11093034e+01]\n",
            " [ 1.74756103e+01]\n",
            " [ 1.71317500e+01]\n",
            " [ 9.77773383e+00]\n",
            " [ 1.50281469e+01]\n",
            " [ 1.30227885e+01]\n",
            " [ 1.17774412e+01]\n",
            " [ 2.04652108e+01]\n",
            " [ 2.13345396e+00]\n",
            " [ 3.15573233e+00]\n",
            " [ 4.25367990e-01]\n",
            " [ 2.02241379e+01]\n",
            " [ 1.58169592e+01]\n",
            " [ 1.82042217e+01]\n",
            " [ 2.33386682e+01]\n",
            " [ 1.32876532e+01]\n",
            " [ 6.68861725e+00]\n",
            " [ 1.75493769e+01]\n",
            " [ 1.92417072e-02]\n",
            " [ 1.66856628e+01]\n",
            " [ 2.03982779e+00]\n",
            " [ 1.73984687e+01]\n",
            " [ 1.42828505e+01]\n",
            " [ 1.12542684e+01]\n",
            " [ 9.02623016e+00]\n",
            " [ 1.72967631e+01]\n",
            " [ 7.40055527e+00]\n",
            " [ 1.51888089e+01]\n",
            " [-1.60210733e-01]\n",
            " [ 1.39576227e+01]\n",
            " [ 1.41364184e+01]\n",
            " [ 1.20286598e+01]\n",
            " [ 2.01031203e+01]\n",
            " [ 1.54808193e+01]\n",
            " [ 7.94300907e+00]\n",
            " [ 6.54183749e+00]\n",
            " [ 1.45491003e+01]\n",
            " [ 3.85728123e+00]\n",
            " [ 1.19461986e+01]\n",
            " [ 1.31134883e+01]\n",
            " [ 3.33734412e+00]\n",
            " [ 6.27705341e+00]\n",
            " [ 7.65315653e+00]\n",
            " [ 8.08913909e+00]\n",
            " [ 9.86410326e+00]\n",
            " [ 9.85052865e+00]\n",
            " [ 1.84188114e+01]\n",
            " [ 2.10455733e+00]\n",
            " [ 2.90584297e+00]\n",
            " [ 4.57905695e+00]\n",
            " [ 1.42153481e+01]\n",
            " [ 4.64923454e+00]\n",
            " [ 1.01182289e+01]\n",
            " [ 2.70238882e+00]\n",
            " [ 1.96876487e-01]\n",
            " [ 3.08628623e+00]\n",
            " [ 1.34599388e+01]\n",
            " [ 4.03372190e+00]\n",
            " [ 8.69793678e+00]\n",
            " [ 9.26346239e+00]\n",
            " [ 1.45942201e+01]\n",
            " [ 4.17605809e+00]\n",
            " [ 1.41270833e+01]\n",
            " [ 9.98798948e-01]\n",
            " [ 1.93927061e+01]\n",
            " [ 1.27997095e+01]\n",
            " [ 1.80457121e+01]\n",
            " [ 1.04440333e+01]\n",
            " [ 1.45883665e+01]\n",
            " [-5.43200728e-01]\n",
            " [ 7.90941110e+00]\n",
            " [ 2.44068208e-01]\n",
            " [ 3.62786665e+00]\n",
            " [ 1.49891429e+00]\n",
            " [ 5.36359869e+00]\n",
            " [ 1.21443240e+01]\n",
            " [ 3.18179154e+00]\n",
            " [ 1.40245449e+01]\n",
            " [ 8.88115805e+00]\n",
            " [ 6.99651577e+00]\n",
            " [ 8.46453037e+00]\n",
            " [-1.21073198e+00]\n",
            " [ 1.38949895e+01]\n",
            " [ 1.92198092e+01]\n",
            " [ 8.21309670e+00]\n",
            " [ 1.39856629e+01]\n",
            " [ 4.34961847e+00]\n",
            " [ 1.30244929e+01]\n",
            " [ 3.71963618e+00]\n",
            " [ 5.02701628e+00]\n",
            " [ 1.01234394e+01]\n",
            " [-9.76948632e-01]\n",
            " [ 1.56677356e+01]\n",
            " [ 1.28867842e-01]]\n"
          ]
        }
      ]
    },
    {
      "cell_type": "code",
      "source": [
        "#Dividir los datos en conjunto de entrenamiento y conjunto de prueba\n",
        "train_data, test_data, train_labels, test_labels = train_test_split(horas_estudio, calificaciones, test_size=0.2, random_state=42)\n"
      ],
      "metadata": {
        "id": "PZgAMVy4icOD"
      },
      "execution_count": 5,
      "outputs": []
    },
    {
      "cell_type": "code",
      "source": [
        "#crear y entrenar el modelo de regresion lineal\n",
        "model = LinearRegression()\n",
        "model.fit(train_data, train_labels)"
      ],
      "metadata": {
        "colab": {
          "base_uri": "https://localhost:8080/",
          "height": 74
        },
        "id": "4_-NANMTKnIG",
        "outputId": "d511c317-bf04-4b5a-a725-5c13a3e8c200"
      },
      "execution_count": 7,
      "outputs": [
        {
          "output_type": "execute_result",
          "data": {
            "text/plain": [
              "LinearRegression()"
            ],
            "text/html": [
              "<style>#sk-container-id-1 {color: black;background-color: white;}#sk-container-id-1 pre{padding: 0;}#sk-container-id-1 div.sk-toggleable {background-color: white;}#sk-container-id-1 label.sk-toggleable__label {cursor: pointer;display: block;width: 100%;margin-bottom: 0;padding: 0.3em;box-sizing: border-box;text-align: center;}#sk-container-id-1 label.sk-toggleable__label-arrow:before {content: \"▸\";float: left;margin-right: 0.25em;color: #696969;}#sk-container-id-1 label.sk-toggleable__label-arrow:hover:before {color: black;}#sk-container-id-1 div.sk-estimator:hover label.sk-toggleable__label-arrow:before {color: black;}#sk-container-id-1 div.sk-toggleable__content {max-height: 0;max-width: 0;overflow: hidden;text-align: left;background-color: #f0f8ff;}#sk-container-id-1 div.sk-toggleable__content pre {margin: 0.2em;color: black;border-radius: 0.25em;background-color: #f0f8ff;}#sk-container-id-1 input.sk-toggleable__control:checked~div.sk-toggleable__content {max-height: 200px;max-width: 100%;overflow: auto;}#sk-container-id-1 input.sk-toggleable__control:checked~label.sk-toggleable__label-arrow:before {content: \"▾\";}#sk-container-id-1 div.sk-estimator input.sk-toggleable__control:checked~label.sk-toggleable__label {background-color: #d4ebff;}#sk-container-id-1 div.sk-label input.sk-toggleable__control:checked~label.sk-toggleable__label {background-color: #d4ebff;}#sk-container-id-1 input.sk-hidden--visually {border: 0;clip: rect(1px 1px 1px 1px);clip: rect(1px, 1px, 1px, 1px);height: 1px;margin: -1px;overflow: hidden;padding: 0;position: absolute;width: 1px;}#sk-container-id-1 div.sk-estimator {font-family: monospace;background-color: #f0f8ff;border: 1px dotted black;border-radius: 0.25em;box-sizing: border-box;margin-bottom: 0.5em;}#sk-container-id-1 div.sk-estimator:hover {background-color: #d4ebff;}#sk-container-id-1 div.sk-parallel-item::after {content: \"\";width: 100%;border-bottom: 1px solid gray;flex-grow: 1;}#sk-container-id-1 div.sk-label:hover label.sk-toggleable__label {background-color: #d4ebff;}#sk-container-id-1 div.sk-serial::before {content: \"\";position: absolute;border-left: 1px solid gray;box-sizing: border-box;top: 0;bottom: 0;left: 50%;z-index: 0;}#sk-container-id-1 div.sk-serial {display: flex;flex-direction: column;align-items: center;background-color: white;padding-right: 0.2em;padding-left: 0.2em;position: relative;}#sk-container-id-1 div.sk-item {position: relative;z-index: 1;}#sk-container-id-1 div.sk-parallel {display: flex;align-items: stretch;justify-content: center;background-color: white;position: relative;}#sk-container-id-1 div.sk-item::before, #sk-container-id-1 div.sk-parallel-item::before {content: \"\";position: absolute;border-left: 1px solid gray;box-sizing: border-box;top: 0;bottom: 0;left: 50%;z-index: -1;}#sk-container-id-1 div.sk-parallel-item {display: flex;flex-direction: column;z-index: 1;position: relative;background-color: white;}#sk-container-id-1 div.sk-parallel-item:first-child::after {align-self: flex-end;width: 50%;}#sk-container-id-1 div.sk-parallel-item:last-child::after {align-self: flex-start;width: 50%;}#sk-container-id-1 div.sk-parallel-item:only-child::after {width: 0;}#sk-container-id-1 div.sk-dashed-wrapped {border: 1px dashed gray;margin: 0 0.4em 0.5em 0.4em;box-sizing: border-box;padding-bottom: 0.4em;background-color: white;}#sk-container-id-1 div.sk-label label {font-family: monospace;font-weight: bold;display: inline-block;line-height: 1.2em;}#sk-container-id-1 div.sk-label-container {text-align: center;}#sk-container-id-1 div.sk-container {/* jupyter's `normalize.less` sets `[hidden] { display: none; }` but bootstrap.min.css set `[hidden] { display: none !important; }` so we also need the `!important` here to be able to override the default hidden behavior on the sphinx rendered scikit-learn.org. See: https://github.com/scikit-learn/scikit-learn/issues/21755 */display: inline-block !important;position: relative;}#sk-container-id-1 div.sk-text-repr-fallback {display: none;}</style><div id=\"sk-container-id-1\" class=\"sk-top-container\"><div class=\"sk-text-repr-fallback\"><pre>LinearRegression()</pre><b>In a Jupyter environment, please rerun this cell to show the HTML representation or trust the notebook. <br />On GitHub, the HTML representation is unable to render, please try loading this page with nbviewer.org.</b></div><div class=\"sk-container\" hidden><div class=\"sk-item\"><div class=\"sk-estimator sk-toggleable\"><input class=\"sk-toggleable__control sk-hidden--visually\" id=\"sk-estimator-id-1\" type=\"checkbox\" checked><label for=\"sk-estimator-id-1\" class=\"sk-toggleable__label sk-toggleable__label-arrow\">LinearRegression</label><div class=\"sk-toggleable__content\"><pre>LinearRegression()</pre></div></div></div></div></div>"
            ]
          },
          "metadata": {},
          "execution_count": 7
        }
      ]
    },
    {
      "cell_type": "code",
      "source": [
        "#realizar predicciones\n",
        "predictions = model.predict(test_data)"
      ],
      "metadata": {
        "id": "WuOZw0gjLJLx"
      },
      "execution_count": 8,
      "outputs": []
    },
    {
      "cell_type": "code",
      "source": [
        "# Calcular el error cuadrático medio\n",
        "mse = mean_squared_error(test_labels, predictions)\n",
        "print(\"Error cuadrático medio:\", mse)\n"
      ],
      "metadata": {
        "colab": {
          "base_uri": "https://localhost:8080/"
        },
        "id": "Tm9i0V8mLQ9w",
        "outputId": "e89b73bf-570a-4660-fcd0-3d78535efcc8"
      },
      "execution_count": 9,
      "outputs": [
        {
          "output_type": "stream",
          "name": "stdout",
          "text": [
            "Error cuadrático medio: 3.671012987885716\n"
          ]
        }
      ]
    },
    {
      "cell_type": "code",
      "source": [
        "# Graficar el modelo de regresión lineal y las predicciones\n",
        "plt.scatter(test_data, test_labels, color='blue')\n",
        "plt.plot(test_data, predictions, color='red')\n",
        "plt.title('Regresión Lineal')\n",
        "plt.xlabel('Horas de estudio')\n",
        "plt.ylabel('Calificaciones')\n",
        "plt.show()"
      ],
      "metadata": {
        "colab": {
          "base_uri": "https://localhost:8080/",
          "height": 472
        },
        "id": "W3wGqt8eLXua",
        "outputId": "277b6920-ed95-4e4d-efc2-26d74b5c802a"
      },
      "execution_count": 10,
      "outputs": [
        {
          "output_type": "display_data",
          "data": {
            "text/plain": [
              "<Figure size 640x480 with 1 Axes>"
            ],
            "image/png": "[encoded data removed]"
          },
          "metadata": {}
        }
      ]
    }
  ]
}